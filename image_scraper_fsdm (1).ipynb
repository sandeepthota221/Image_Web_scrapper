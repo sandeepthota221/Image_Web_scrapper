{
 "cells": [
  {
   "cell_type": "code",
   "execution_count": 1,
   "id": "4be79213-48c9-469a-aad7-021bc36bf16c",
   "metadata": {},
   "outputs": [],
   "source": [
    "import requests\n",
    "import logging\n",
    "import os\n",
    "from bs4 import BeautifulSoup\n",
    "from urllib.request import urlopen"
   ]
  },
  {
   "cell_type": "code",
   "execution_count": 2,
   "id": "6b040202-020d-405f-85c6-ebeaf8ada629",
   "metadata": {},
   "outputs": [],
   "source": [
    "save_dir=\"images/\"\n",
    "if not os.path.exists(save_dir):\n",
    "    os.makedirs(save_dir)"
   ]
  },
  {
   "cell_type": "code",
   "execution_count": null,
   "id": "3521beda-cfc4-457a-99a3-b57b5edcbcd4",
   "metadata": {},
   "outputs": [],
   "source": [
    "https://www.google.com/search?q=ineuron&tbm=isch&ved=2ahUKEwiknr6jyrWAAxWhzaACHQytAy4Q2-cCegQIABAA&oq=ineuron&gs_lcp=CgNpbWcQAzIFCAAQgAQyBQgAEIAEMgUIABCABDIFCAAQgAQyBQgAEIAEMgUIABCABDIFCAAQgAQyBQgAEIAEMgUIABCABDoKCAAQigUQsQMQQzoICAAQgAQQsQM6BwgAEIoFEEM6DQgAEIoFELEDEIMBEEM6BAgAEANQysgEWI7YBGCK2wRoA3AAeACAAZ0BiAHmBpIBAzYuM5gBAKABAaoBC2d3cy13aXotaW1nsAEAwAEB&sclient=img&ei=MeXFZOTBAqGbg8UPjNqO8AI&bih=724&biw=1440&hl=en"
   ]
  },
  {
   "cell_type": "code",
   "execution_count": 32,
   "id": "3c6dad38-c189-4414-8297-0ad4ca60d821",
   "metadata": {},
   "outputs": [],
   "source": [
    "query=\"virat kholi\"\n",
    "#url=https://www.google.com/search?q=query&sxsrf=AJOqlzUuff1RXi2mm8I_OqOwT9VjfIDL7w:1676996143273&source=lnms&tbm=isch&sa=X&ved=2ahUKEwiq-qK7gaf9AhXUgVYBHYReAfYQ_AUoA3oECAEQBQ&biw=1920&bih=937&dpr=1#imgrc=1th7VhSesfMJ4M"
   ]
  },
  {
   "cell_type": "code",
   "execution_count": 33,
   "id": "dbce373b-64e9-406f-88e8-97aac3c7e28a",
   "metadata": {},
   "outputs": [],
   "source": [
    "response=requests.get(f\"https://www.google.com/search?q={query}&sxsrf=AJOqlzUuff1RXi2mm8I_OqOwT9VjfIDL7w:1676996143273&source=lnms&tbm=isch&sa=X&ved=2ahUKEwiq-qK7gaf9AhXUgVYBHYReAfYQ_AUoA3oECAEQBQ&biw=1920&bih=937&dpr=1#imgrc=1th7VhSesfMJ4M\")"
   ]
  },
  {
   "cell_type": "code",
   "execution_count": 34,
   "id": "1ae397f8-0f44-4e5a-8da1-eee389d24c23",
   "metadata": {},
   "outputs": [
    {
     "data": {
      "text/plain": [
       "<Response [200]>"
      ]
     },
     "execution_count": 34,
     "metadata": {},
     "output_type": "execute_result"
    }
   ],
   "source": [
    "response"
   ]
  },
  {
   "cell_type": "code",
   "execution_count": 35,
   "id": "fd7122a8-e58f-4531-bc7f-aa0f8adb5cc2",
   "metadata": {},
   "outputs": [],
   "source": [
    "soup=BeautifulSoup(response.content,\"html.parser\")"
   ]
  },
  {
   "cell_type": "code",
   "execution_count": 36,
   "id": "4bd56db4-a063-4aaf-b570-d9c54defbb79",
   "metadata": {},
   "outputs": [
    {
     "data": {
      "text/plain": [
       "<!DOCTYPE html PUBLIC \"-//WAPFORUM//DTD XHTML Mobile 1.0//EN\" \"http://www.wapforum.org/DTD/xhtml-mobile10.dtd\">\n",
       "<html lang=\"en-IN\" xmlns=\"http://www.w3.org/1999/xhtml\"><head><meta content=\"application/xhtml+xml; charset=utf-8\" http-equiv=\"Content-Type\"/><meta content=\"no-cache\" name=\"Cache-Control\"/><title>virat kholi - Google Search</title><style>a{text-decoration:none;color:inherit}a:hover{text-decoration:underline}a img{border:0}body{font-family:arial,sans-serif;padding:8px;margin:0 auto;max-width:700px;min-width:240px;}.FbhRzb{border-left:thin solid #dadce0;border-right:thin solid #dadce0;border-top:thin solid #dadce0;height:40px;overflow:hidden}.n692Zd{margin-bottom:10px}.cvifge{height:40px;border-spacing:0}.QvGUP{height:40px;padding:0 8px 0 8px;vertical-align:top}.O4cRJf{height:40px;width:100%;padding:0;padding-right:16px}.O1ePr{height:40px;padding:0;vertical-align:top}.kgJEQe{height:36px;width:98px;vertical-align:top;margin-top:4px}.lXLRf{vertical-align:top}.MhzMZd{border:0;vertical-align:middle;font-size:14px;height:40px;padding:0;width:100%;padding-left:16px}.xB0fq{height:40px;border:none;font-size:14px;background-color:#1a73e8;color:#fff;padding:0 16px;margin:0;vertical-align:top;cursor:pointer}.xB0fq:focus{border:1px solid #1a73e8}.M7pB2{border:thin solid #dadce0;margin:0 0 3px 0;font-size:13px;font-weight:500;height:40px}.euZec{width:100%;height:40px;text-align:center;border-spacing:0}table.euZec td{padding:0;width:25%}.QIqI7{display:inline-block;padding-top:4px;font-weight:bold;color:#4285f4}.EY24We{border-bottom:2px solid #4285f4}.CsQyDc{display:inline-block;color:#70757a}.TuS8Ad{font-size:14px}.HddGcc{padding:8px;color:#70757a}.dzp8ae{font-weight:bold;color:#3c4043}.rEM8G{color:#70757a}.bookcf{table-layout:fixed;width:100%;border-spacing:0}.InWNIe{text-align:center}.uZgmoc{border:thin solid #dadce0;color:#70757a;font-size:14px;text-align:center;table-layout:fixed;width:100%}.frGj1b{display:block;padding:12px 0 12px 0;width:100%}.BnJWBc{text-align:center;padding:6px 0 13px 0;height:35px}.e3goi{vertical-align:top;padding:0;height:180px}.GpQGbf{margin:auto;border-collapse:collapse;border-spacing:0;width:100%}</style></head><body><style>.X6ZCif{color:#202124;font-size:11px;line-height:16px;display:inline-block;padding-top:2px;overflow:hidden;padding-bottom:4px;width:100%}.TwVfHd{border-radius:16px;border:thin solid #dadce0;display:inline-block;padding:8px 8px;margin-right:8px;margin-bottom:4px}.yekiAe{background-color:#dadce0}.ezO2md{border:thin solid #dadce0;padding:12px 16px 12px 16px;margin-bottom:10px;font-family:arial,sans-serif}.lIMUZd{font-family:arial,sans-serif}.kk667b{padding-bottom:12px}.Mw6wOc{width:100%;border-spacing:0}.fBgPuf{padding-bottom:12px}.K3JWGf{display:block;float:right;padding-left:16px;max-width:72px;max-height:72px}.CSfvHb{padding-bottom:8px}.fYyStc{word-break:break-word}.ynsChf{display:block;white-space:nowrap;overflow:hidden;text-overflow:ellipsis}.Fj3V3b{color:#1967d2;font-size:14px;line-height:20px}.FrIlee{color:#202124;font-size:11px;line-height:16px}.F9iS2e{color:#70757a;font-size:11px;line-height:16px}.WMQ2Le{color:#70757a;font-size:12px;line-height:16px}.x3G5ab{color:#202124;font-size:12px;line-height:16px}.fuLhoc{color:#1967d2;font-size:16px;line-height:20px}.epoveb{font-size:24px;line-height:28px;font-weight:400;color:#202124}.dXDvrc{color:#0d652d;font-size:14px;line-height:20px;word-wrap:break-word}.dloBPe{font-weight:bold}.YVIcad{color:#70757a}.JkVVdd{color:#ea4335}.oXZRFd{color:#ea4335}.MQHtg{color:#fbbc04}.pyMRrb{color:#1e8e3e}.EtTZid{color:#1e8e3e}.M3vVJe{color:#1967d2}.qXLe6d{display:block}.NHQNef{font-style:italic}.Cb8Z7c{white-space:pre}a.ZWRArf{text-decoration:none}a .CVA68e:hover{text-decoration:underline}.mnTahd{width:100%}.IkMU6e{border-spacing:0}.SjCsie{width:100%}.EnarA{text-align:center}.NZWO1b{width:162px;height:140px;line-height:140px;overflow:'hidden';text-align:center}.yWs4tf{text-align:center;margin:auto;vertical-align:middle;max-width:162px;max-height:140px}.jB2rPd{padding-top:2px;padding-bottom:8px;}</style><div class=\"n692Zd\"><div class=\"BnJWBc\"><a class=\"lXLRf\" href=\"/?sa=X&amp;biw=1920&amp;bih=937&amp;output=images&amp;ie=UTF-8&amp;tbm=isch&amp;ved=0ahUKEwjSh8jK0rWAAxVY-TgGHRAFB5gQPAgC\"><img alt=\"Google\" class=\"kgJEQe\" src=\"/images/branding/searchlogo/1x/googlelogo_desk_heirloom_color_150x55dp.gif\"/></a></div><div class=\"FbhRzb\"><form action=\"/search\"><input name=\"biw\" type=\"hidden\" value=\"1920\"/><input name=\"bih\" type=\"hidden\" value=\"937\"/><input name=\"ie\" type=\"hidden\" value=\"ISO-8859-1\"/><input name=\"tbm\" type=\"hidden\" value=\"isch\"/><input name=\"oq\" type=\"hidden\"/><input name=\"aqs\" type=\"hidden\"/><table class=\"cvifge\"><tr><td class=\"O4cRJf\"><input class=\"MhzMZd\" name=\"q\" type=\"text\" value=\"virat kholi\"/></td><td class=\"O1ePr\"><input class=\"xB0fq\" type=\"submit\" value=\"Search\"/></td></tr></table></form></div><div class=\"M7pB2\"><table class=\"euZec\"><tbody><tr><td><a class=\"CsQyDc\" href=\"/search?q=virat+kohli&amp;biw=1920&amp;bih=937&amp;ie=UTF-8&amp;source=lnms&amp;sa=X&amp;ved=0ahUKEwjSh8jK0rWAAxVY-TgGHRAFB5gQ_AUIBCgA\">ALL</a></td><td><a class=\"CsQyDc\" href=\"/search?q=virat+kohli&amp;biw=1920&amp;bih=937&amp;ie=UTF-8&amp;tbm=nws&amp;source=lnms&amp;sa=X&amp;ved=0ahUKEwjSh8jK0rWAAxVY-TgGHRAFB5gQ_AUIBSgB\">NEWS</a></td><td class=\"EY24We\"><span class=\"QIqI7\">IMAGES</span></td><td><a class=\"CsQyDc\" href=\"/search?q=virat+kohli&amp;biw=1920&amp;bih=937&amp;ie=UTF-8&amp;tbm=vid&amp;source=lnms&amp;sa=X&amp;ved=0ahUKEwjSh8jK0rWAAxVY-TgGHRAFB5gQ_AUIBygD\">VIDEOS</a></td></tr></tbody></table></div></div><div class=\"X6ZCif\"><a class=\"TwVfHd\" href=\"/search?biw=1920&amp;bih=937&amp;ie=UTF-8&amp;tbm=isch&amp;q=virat+kohli&amp;chips=q:virat+kholi,g_1:wallpaper&amp;sa=X&amp;ved=0ahUKEwjSh8jK0rWAAxVY-TgGHRAFB5gQ4lYICygA\">wallpaper</a><a class=\"TwVfHd\" href=\"/search?biw=1920&amp;bih=937&amp;ie=UTF-8&amp;tbm=isch&amp;q=virat+kohli&amp;chips=q:virat+kholi,g_1:hair+style&amp;sa=X&amp;ved=0ahUKEwjSh8jK0rWAAxVY-TgGHRAFB5gQ4lYIDCgB\">hair style</a><a class=\"TwVfHd\" href=\"/search?biw=1920&amp;bih=937&amp;ie=UTF-8&amp;tbm=isch&amp;q=virat+kohli&amp;chips=q:virat+kholi,g_1:beard&amp;sa=X&amp;ved=0ahUKEwjSh8jK0rWAAxVY-TgGHRAFB5gQ4lYIDSgC\">beard</a><a class=\"TwVfHd\" href=\"/search?biw=1920&amp;bih=937&amp;ie=UTF-8&amp;tbm=isch&amp;q=virat+kohli&amp;chips=q:virat+kholi,g_1:new+look&amp;sa=X&amp;ved=0ahUKEwjSh8jK0rWAAxVY-TgGHRAFB5gQ4lYIDigD\">new look</a><a class=\"TwVfHd\" href=\"/search?biw=1920&amp;bih=937&amp;ie=UTF-8&amp;tbm=isch&amp;q=virat+kohli&amp;chips=q:virat+kholi,g_1:sketch&amp;sa=X&amp;ved=0ahUKEwjSh8jK0rWAAxVY-TgGHRAFB5gQ4lYIDygE\">sketch</a><a class=\"TwVfHd\" href=\"/search?biw=1920&amp;bih=937&amp;ie=UTF-8&amp;tbm=isch&amp;q=virat+kohli&amp;chips=q:virat+kholi,g_1:wedding&amp;sa=X&amp;ved=0ahUKEwjSh8jK0rWAAxVY-TgGHRAFB5gQ4lYIECgF\">wedding</a><a class=\"TwVfHd\" href=\"/search?biw=1920&amp;bih=937&amp;ie=UTF-8&amp;tbm=isch&amp;q=virat+kohli&amp;chips=q:virat+kholi,g_1:century&amp;sa=X&amp;ved=0ahUKEwjSh8jK0rWAAxVY-TgGHRAFB5gQ4lYIESgG\">century</a><a class=\"TwVfHd\" href=\"/search?biw=1920&amp;bih=937&amp;ie=UTF-8&amp;tbm=isch&amp;q=virat+kohli&amp;chips=q:virat+kholi,g_1:jersey&amp;sa=X&amp;ved=0ahUKEwjSh8jK0rWAAxVY-TgGHRAFB5gQ4lYIEigH\">jersey</a><a class=\"TwVfHd\" href=\"/search?biw=1920&amp;bih=937&amp;ie=UTF-8&amp;tbm=isch&amp;q=virat+kohli&amp;chips=q:virat+kholi,g_1:smart&amp;sa=X&amp;ved=0ahUKEwjSh8jK0rWAAxVY-TgGHRAFB5gQ4lYIEygI\">smart</a><a class=\"TwVfHd\" href=\"/search?biw=1920&amp;bih=937&amp;ie=UTF-8&amp;tbm=isch&amp;q=virat+kohli&amp;chips=q:virat+kholi,g_1:team&amp;sa=X&amp;ved=0ahUKEwjSh8jK0rWAAxVY-TgGHRAFB5gQ4lYIFCgJ\">team</a></div><div><div> <div> <div class=\"lIMUZd\"><div><table class=\"Mw6wOc\"><tbody><tr><td><div> <div> <span class=\"qXLe6d F9iS2e\"> <span class=\"fYyStc\">Showing results for </span> <a class=\"dloBPe M3vVJe\" href=\"/search?biw=1920&amp;bih=937&amp;ie=UTF-8&amp;tbm=isch&amp;q=virat+kohli&amp;spell=1&amp;sa=X&amp;ved=2ahUKEwjSh8jK0rWAAxVY-TgGHRAFB5gQvwV6BAgUEAE\">virat kohli</a> <span class=\"fYyStc\">\n",
       "</span> <span class=\"fYyStc\">Search instead for </span> <a class=\"M3vVJe\" href=\"/search?biw=1920&amp;bih=937&amp;ie=UTF-8&amp;tbm=isch&amp;q=virat+kholi&amp;nfpr=1&amp;sa=X&amp;ved=2ahUKEwjSh8jK0rWAAxVY-TgGHRAFB5gQvgV6BAgUEAI\">virat kholi</a> </span> </div> </div></td></tr></tbody></table></div></div> </div> </div><table class=\"GpQGbf\"><tr><td align=\"center\" class=\"e3goi\"><div class=\"mnTahd\"> <div> <div class=\"lIMUZd\"><div><table class=\"IkMU6e\"><tr><td><a href=\"/url?q=https://en.wikipedia.org/wiki/Virat_Kohli&amp;sa=U&amp;ved=2ahUKEwjSh8jK0rWAAxVY-TgGHRAFB5gQqoUBegQIARAB&amp;usg=AOvVaw0Oi-NmbPQJIOGfpqA9DSDr\"><div class=\"NZWO1b\"><img alt=\"\" class=\"yWs4tf\" src=\"https://encrypted-tbn0.gstatic.com/images?q=tbn:ANd9GcSApOD8cC7Jh33c0VqbcFkcmx0og9wr1DYsD50a8Tp3p-0I33M_SuuLXA0Kizk&amp;s\"/></div></a></td></tr><tr><td><a href=\"/url?q=https://en.wikipedia.org/wiki/Virat_Kohli&amp;sa=U&amp;ved=2ahUKEwjSh8jK0rWAAxVY-TgGHRAFB5gQr4kDegQIARAC&amp;usg=AOvVaw3iCzhQLJZd1wRwUsed_2kx\"><div class=\"jB2rPd\"> <span class=\"qXLe6d x3G5ab\"> <span class=\"fYyStc\">Virat Kohli - Wikipedia</span> </span> <span class=\"qXLe6d F9iS2e\"> <span class=\"fYyStc\">en.wikipedia.org</span> </span> </div></a></td></tr></table></div></div> </div> </div></td><td align=\"center\" class=\"e3goi\"><div class=\"mnTahd\"> <div> <div class=\"lIMUZd\"><div><table class=\"IkMU6e\"><tr><td><a href=\"/url?q=https://m.timesofindia.com/sports/cricket/india-in-west-indies/virat-kohli-can-score-as-quickly-as-guys-you-call-six-hitters-curtly-ambrose/articleshow/102223510.cms&amp;sa=U&amp;ved=2ahUKEwjSh8jK0rWAAxVY-TgGHRAFB5gQqoUBegQIEhAB&amp;usg=AOvVaw1LRCMp4KSQrizLhmkXVUkQ\"><div class=\"NZWO1b\"><img alt=\"\" class=\"yWs4tf\" src=\"https://encrypted-tbn0.gstatic.com/images?q=tbn:ANd9GcS9C58BNcMmQwtKOOVPr2QxPHvO0WyNIRF5XejM_bsxPzCH1IyGGEB2t2o2tlg&amp;s\"/></div></a></td></tr><tr><td><a href=\"/url?q=https://m.timesofindia.com/sports/cricket/india-in-west-indies/virat-kohli-can-score-as-quickly-as-guys-you-call-six-hitters-curtly-ambrose/articleshow/102223510.cms&amp;sa=U&amp;ved=2ahUKEwjSh8jK0rWAAxVY-TgGHRAFB5gQr4kDegQIEhAC&amp;usg=AOvVaw02v7Vp_M06KcEdxWej8uDM\"><div class=\"jB2rPd\"> <span class=\"qXLe6d x3G5ab\"> <span class=\"fYyStc\">Virat Kohli can score as...</span> </span> <span class=\"qXLe6d F9iS2e\"> <span class=\"fYyStc\">m.timesofindia.com</span> </span> </div></a></td></tr></table></div></div> </div> </div></td><td align=\"center\" class=\"e3goi\"><div class=\"mnTahd\"> <div> <div class=\"lIMUZd\"><div><table class=\"IkMU6e\"><tr><td><a href=\"/url?q=https://m.timesofindia.com/sports/cricket/india-in-west-indies/india-vs-west-indies-irked-rohit-sharma-dismisses-concern-over-virat-kohlis-overseas-test-form-as-outside-talks/articleshow/102161934.cms&amp;sa=U&amp;ved=2ahUKEwjSh8jK0rWAAxVY-TgGHRAFB5gQqoUBegQIExAB&amp;usg=AOvVaw12acuHtj4GtqCHmfwekJEh\"><div class=\"NZWO1b\"><img alt=\"\" class=\"yWs4tf\" src=\"https://encrypted-tbn0.gstatic.com/images?q=tbn:ANd9GcQCfkyyXvEcnRtcJK8pjwyUIUlRY2u0Dc29_uLZWlfkNwlm4eScqvZgTCz0w7I&amp;s\"/></div></a></td></tr><tr><td><a href=\"/url?q=https://m.timesofindia.com/sports/cricket/india-in-west-indies/india-vs-west-indies-irked-rohit-sharma-dismisses-concern-over-virat-kohlis-overseas-test-form-as-outside-talks/articleshow/102161934.cms&amp;sa=U&amp;ved=2ahUKEwjSh8jK0rWAAxVY-TgGHRAFB5gQr4kDegQIExAC&amp;usg=AOvVaw3YSsS8KCSXpdZ7ynJnECAq\"><div class=\"jB2rPd\"> <span class=\"qXLe6d x3G5ab\"> <span class=\"fYyStc\">India vs West Indies: Irked...</span> </span> <span class=\"qXLe6d F9iS2e\"> <span class=\"fYyStc\">m.timesofindia.com</span> </span> </div></a></td></tr></table></div></div> </div> </div></td><td align=\"center\" class=\"e3goi\"><div class=\"mnTahd\"> <div> <div class=\"lIMUZd\"><div><table class=\"IkMU6e\"><tr><td><a href=\"/url?q=https://www.zeebiz.com/web-stories/trending/sports/sachin-tendulkar-vs-virat-kohli-records-after-500-international-matches-runs-100s-50s-average-1690300926080&amp;sa=U&amp;ved=2ahUKEwjSh8jK0rWAAxVY-TgGHRAFB5gQqoUBegQIERAB&amp;usg=AOvVaw0c1wtouxEGwVjARerpyvxb\"><div class=\"NZWO1b\"><img alt=\"\" class=\"yWs4tf\" src=\"https://encrypted-tbn0.gstatic.com/images?q=tbn:ANd9GcSDzghEWlDVR4HINdcej04lBxbi1aoTL_CPHZh2TfFntrG95uCrdJ1ObDS4cA&amp;s\"/></div></a></td></tr><tr><td><a href=\"/url?q=https://www.zeebiz.com/web-stories/trending/sports/sachin-tendulkar-vs-virat-kohli-records-after-500-international-matches-runs-100s-50s-average-1690300926080&amp;sa=U&amp;ved=2ahUKEwjSh8jK0rWAAxVY-TgGHRAFB5gQr4kDegQIERAC&amp;usg=AOvVaw2rgF2bgbIOIMhsOvyPqzaG\"><div class=\"jB2rPd\"> <span class=\"qXLe6d x3G5ab\"> <span class=\"fYyStc\">Virat Kohli vs Sachin...</span> </span> <span class=\"qXLe6d F9iS2e\"> <span class=\"fYyStc\">www.zeebiz.com</span> </span> </div></a></td></tr></table></div></div> </div> </div></td></tr><tr><td align=\"center\" class=\"e3goi\"><div class=\"mnTahd\"> <div> <div class=\"lIMUZd\"><div><table class=\"IkMU6e\"><tr><td><a href=\"/url?q=https://www.dnaindia.com/technology/report-virat-kohli-uses-rs-20000-apple-earbuds-that-aren-t-available-in-india-not-apple-airpods-pro-3053376&amp;sa=U&amp;ved=2ahUKEwjSh8jK0rWAAxVY-TgGHRAFB5gQqoUBegQIEBAB&amp;usg=AOvVaw2-A_YtlabInoV1PIG0Q6Ex\"><div class=\"NZWO1b\"><img alt=\"\" class=\"yWs4tf\" src=\"https://encrypted-tbn0.gstatic.com/images?q=tbn:ANd9GcRZJo33H9n0_WI5mo6qPjFFxMNOnC6gKTatQcX4aVQVlSZDmBsXBdfl3W__mw&amp;s\"/></div></a></td></tr><tr><td><a href=\"/url?q=https://www.dnaindia.com/technology/report-virat-kohli-uses-rs-20000-apple-earbuds-that-aren-t-available-in-india-not-apple-airpods-pro-3053376&amp;sa=U&amp;ved=2ahUKEwjSh8jK0rWAAxVY-TgGHRAFB5gQr4kDegQIEBAC&amp;usg=AOvVaw2ZbsKae5E1zbRQ7gcJlJUv\"><div class=\"jB2rPd\"> <span class=\"qXLe6d x3G5ab\"> <span class=\"fYyStc\">Virat Kohli uses Rs 20,000...</span> </span> <span class=\"qXLe6d F9iS2e\"> <span class=\"fYyStc\">www.dnaindia.com</span> </span> </div></a></td></tr></table></div></div> </div> </div></td><td align=\"center\" class=\"e3goi\"><div class=\"mnTahd\"> <div> <div class=\"lIMUZd\"><div><table class=\"IkMU6e\"><tr><td><a href=\"/url?q=https://www.timesnownews.com/viral/virat-kohli-doppelganger-fans-mistake-haryana-man-kartik-sharma-lookalike-viral-video-article-102196424&amp;sa=U&amp;ved=2ahUKEwjSh8jK0rWAAxVY-TgGHRAFB5gQqoUBegQIChAB&amp;usg=AOvVaw1rWj7ByThuDZKFn0az5yQY\"><div class=\"NZWO1b\"><img alt=\"\" class=\"yWs4tf\" src=\"https://encrypted-tbn0.gstatic.com/images?q=tbn:ANd9GcRxlnSKBB-rt4QOMMJQGrXOOsqG6yPbmCwEqBEqHkkvt8AV2DTnkCMAHsro4qc&amp;s\"/></div></a></td></tr><tr><td><a href=\"/url?q=https://www.timesnownews.com/viral/virat-kohli-doppelganger-fans-mistake-haryana-man-kartik-sharma-lookalike-viral-video-article-102196424&amp;sa=U&amp;ved=2ahUKEwjSh8jK0rWAAxVY-TgGHRAFB5gQr4kDegQIChAC&amp;usg=AOvVaw0facpANCMFg_g46z73bQ63\"><div class=\"jB2rPd\"> <span class=\"qXLe6d x3G5ab\"> <span class=\"fYyStc\">Doppelganger Alert! Fans...</span> </span> <span class=\"qXLe6d F9iS2e\"> <span class=\"fYyStc\">www.timesnownews.com</span> </span> </div></a></td></tr></table></div></div> </div> </div></td><td align=\"center\" class=\"e3goi\"><div class=\"mnTahd\"> <div> <div class=\"lIMUZd\"><div><table class=\"IkMU6e\"><tr><td><a href=\"/url?q=https://sports.ndtv.com/cricket/virat-kohli-once-apologised-thrice-to-zaheer-khan-during-one-game-ishant-sharma-reveals-why-4239925&amp;sa=U&amp;ved=2ahUKEwjSh8jK0rWAAxVY-TgGHRAFB5gQqoUBegQICRAB&amp;usg=AOvVaw3zymhY1Zo-E3lYsNYyu56y\"><div class=\"NZWO1b\"><img alt=\"\" class=\"yWs4tf\" src=\"https://encrypted-tbn0.gstatic.com/images?q=tbn:ANd9GcTQisRy9KKPpaR789gUkso2hXdR_nmiUys7sAz5OBHssfxQcCNVOkVb8LmRZQ&amp;s\"/></div></a></td></tr><tr><td><a href=\"/url?q=https://sports.ndtv.com/cricket/virat-kohli-once-apologised-thrice-to-zaheer-khan-during-one-game-ishant-sharma-reveals-why-4239925&amp;sa=U&amp;ved=2ahUKEwjSh8jK0rWAAxVY-TgGHRAFB5gQr4kDegQICRAC&amp;usg=AOvVaw1ym_PNGQlOd_sfyH6WVGI2\"><div class=\"jB2rPd\"> <span class=\"qXLe6d x3G5ab\"> <span class=\"fYyStc\">Virat Kohli Once Apologised...</span> </span> <span class=\"qXLe6d F9iS2e\"> <span class=\"fYyStc\">sports.ndtv.com</span> </span> </div></a></td></tr></table></div></div> </div> </div></td><td align=\"center\" class=\"e3goi\"><div class=\"mnTahd\"> <div> <div class=\"lIMUZd\"><div><table class=\"IkMU6e\"><tr><td><a href=\"/url?q=https://www.timesnownews.com/web-stories/sports/sachin-records-that-virat-kohli-can-break-before-he-retires/photostory/102181721.cms&amp;sa=U&amp;ved=2ahUKEwjSh8jK0rWAAxVY-TgGHRAFB5gQqoUBegQIDxAB&amp;usg=AOvVaw3oKivRab0hU_PXZ6bC1t9t\"><div class=\"NZWO1b\"><img alt=\"\" class=\"yWs4tf\" src=\"https://encrypted-tbn0.gstatic.com/images?q=tbn:ANd9GcRaA9tOiDkcFIEnon99DX1fCf3rtk0yCtEm3i8iC5SYFS66OmKNWNI0vaQKTg&amp;s\"/></div></a></td></tr><tr><td><a href=\"/url?q=https://www.timesnownews.com/web-stories/sports/sachin-records-that-virat-kohli-can-break-before-he-retires/photostory/102181721.cms&amp;sa=U&amp;ved=2ahUKEwjSh8jK0rWAAxVY-TgGHRAFB5gQr4kDegQIDxAC&amp;usg=AOvVaw3axhZI1kCxRn_mZkjNiRCo\"><div class=\"jB2rPd\"> <span class=\"qXLe6d x3G5ab\"> <span class=\"fYyStc\">Sachin's records that Virat...</span> </span> <span class=\"qXLe6d F9iS2e\"> <span class=\"fYyStc\">www.timesnownews.com</span> </span> </div></a></td></tr></table></div></div> </div> </div></td></tr><tr><td align=\"center\" class=\"e3goi\"><div class=\"mnTahd\"> <div> <div class=\"lIMUZd\"><div><table class=\"IkMU6e\"><tr><td><a href=\"/url?q=https://timesofindia.indiatimes.com/sports/cricket/india-in-bangladesh/virat-kohli-slams-72nd-international-ton-surpasses-ricky-ponting-to-go-second-behind-sachin-tendulkar/articleshow/96131593.cms&amp;sa=U&amp;ved=2ahUKEwjSh8jK0rWAAxVY-TgGHRAFB5gQqoUBegQIDRAB&amp;usg=AOvVaw1RWq_zpNl6gGPH3z-IXCBK\"><div class=\"NZWO1b\"><img alt=\"\" class=\"yWs4tf\" src=\"https://encrypted-tbn0.gstatic.com/images?q=tbn:ANd9GcR3ZFK0A4umNXAAYD4om18k3x2BgBYqPuIywILpy7ckkNFY6U2shFp4v0czbQ&amp;s\"/></div></a></td></tr><tr><td><a href=\"/url?q=https://timesofindia.indiatimes.com/sports/cricket/india-in-bangladesh/virat-kohli-slams-72nd-international-ton-surpasses-ricky-ponting-to-go-second-behind-sachin-tendulkar/articleshow/96131593.cms&amp;sa=U&amp;ved=2ahUKEwjSh8jK0rWAAxVY-TgGHRAFB5gQr4kDegQIDRAC&amp;usg=AOvVaw2OCIqjLr4JjgxfOAwQjiDZ\"><div class=\"jB2rPd\"> <span class=\"qXLe6d x3G5ab\"> <span class=\"fYyStc\">Virat Kohli slams 72nd...</span> </span> <span class=\"qXLe6d F9iS2e\"> <span class=\"fYyStc\">timesofindia.indiatimes.com...</span> </span> </div></a></td></tr></table></div></div> </div> </div></td><td align=\"center\" class=\"e3goi\"><div class=\"mnTahd\"> <div> <div class=\"lIMUZd\"><div><table class=\"IkMU6e\"><tr><td><a href=\"/url?q=https://www.forbes.com/profile/virat-kohli/&amp;sa=U&amp;ved=2ahUKEwjSh8jK0rWAAxVY-TgGHRAFB5gQqoUBegQICxAB&amp;usg=AOvVaw1ed3uGaK_5W1dXpgPml2e1\"><div class=\"NZWO1b\"><img alt=\"\" class=\"yWs4tf\" src=\"https://encrypted-tbn0.gstatic.com/images?q=tbn:ANd9GcQXhRozPeN_ofFzgMvQcHZvcplv3EpOrLtmrSnBG88kwoJo8RFn0Ev3aLykTYA&amp;s\"/></div></a></td></tr><tr><td><a href=\"/url?q=https://www.forbes.com/profile/virat-kohli/&amp;sa=U&amp;ved=2ahUKEwjSh8jK0rWAAxVY-TgGHRAFB5gQr4kDegQICxAC&amp;usg=AOvVaw2TU8moNN1Btbix9djq_tPf\"><div class=\"jB2rPd\"> <span class=\"qXLe6d x3G5ab\"> <span class=\"fYyStc\">0x0.jpg?format=jpg&amp;crop=233...</span> </span> <span class=\"qXLe6d F9iS2e\"> <span class=\"fYyStc\">www.forbes.com</span> </span> </div></a></td></tr></table></div></div> </div> </div></td><td align=\"center\" class=\"e3goi\"><div class=\"mnTahd\"> <div> <div class=\"lIMUZd\"><div><table class=\"IkMU6e\"><tr><td><a href=\"/url?q=https://www.news18.com/cricketnext/virat-kohli-catch-ravindra-jadeja-ind-vs-wi-odi-witty-remark-stunner-kuldeep-yadav-bcci-8444713.html&amp;sa=U&amp;ved=2ahUKEwjSh8jK0rWAAxVY-TgGHRAFB5gQqoUBegQIDhAB&amp;usg=AOvVaw3ug_jZYO76uOeF83ZQnEe8\"><div class=\"NZWO1b\"><img alt=\"\" class=\"yWs4tf\" src=\"https://encrypted-tbn0.gstatic.com/images?q=tbn:ANd9GcSMJqoYKnZTKlkFdcfNNAJJxMnQr_8MRPZkOKH0Vuc68Zy_ZEgoncXEjQGhl9E&amp;s\"/></div></a></td></tr><tr><td><a href=\"/url?q=https://www.news18.com/cricketnext/virat-kohli-catch-ravindra-jadeja-ind-vs-wi-odi-witty-remark-stunner-kuldeep-yadav-bcci-8444713.html&amp;sa=U&amp;ved=2ahUKEwjSh8jK0rWAAxVY-TgGHRAFB5gQr4kDegQIDhAC&amp;usg=AOvVaw2irbS_zDLexgQC9OGvwWCx\"><div class=\"jB2rPd\"> <span class=\"qXLe6d x3G5ab\"> <span class=\"fYyStc\">Generally I Take Such...</span> </span> <span class=\"qXLe6d F9iS2e\"> <span class=\"fYyStc\">www.news18.com</span> </span> </div></a></td></tr></table></div></div> </div> </div></td><td align=\"center\" class=\"e3goi\"><div class=\"mnTahd\"> <div> <div class=\"lIMUZd\"><div><table class=\"IkMU6e\"><tr><td><a href=\"/url?q=https://www.indiatoday.in/sports/cricket/story/india-world-cup-2023-virat-kohli-virender-sehwag-schedule-announcement-2398542-2023-06-27&amp;sa=U&amp;ved=2ahUKEwjSh8jK0rWAAxVY-TgGHRAFB5gQqoUBegQIDBAB&amp;usg=AOvVaw39uJoBNXOLk-1Jz7VYQ9Db\"><div class=\"NZWO1b\"><img alt=\"\" class=\"yWs4tf\" src=\"https://encrypted-tbn0.gstatic.com/images?q=tbn:ANd9GcT31MU-l5iezqCLOPE2jeiBB0geQsn8njIF0T290gdxybDBKMJOC5V1jM9QAg&amp;s\"/></div></a></td></tr><tr><td><a href=\"/url?q=https://www.indiatoday.in/sports/cricket/story/india-world-cup-2023-virat-kohli-virender-sehwag-schedule-announcement-2398542-2023-06-27&amp;sa=U&amp;ved=2ahUKEwjSh8jK0rWAAxVY-TgGHRAFB5gQr4kDegQIDBAC&amp;usg=AOvVaw1vtFd3qXXYzQQ9lhIC12J8\"><div class=\"jB2rPd\"> <span class=\"qXLe6d x3G5ab\"> <span class=\"fYyStc\">India would want to win the...</span> </span> <span class=\"qXLe6d F9iS2e\"> <span class=\"fYyStc\">www.indiatoday.in</span> </span> </div></a></td></tr></table></div></div> </div> </div></td></tr><tr><td align=\"center\" class=\"e3goi\"><div class=\"mnTahd\"> <div> <div class=\"lIMUZd\"><div><table class=\"IkMU6e\"><tr><td><a href=\"/url?q=https://mobcup.net/wallpapers/virat-kohli-hd&amp;sa=U&amp;ved=2ahUKEwjSh8jK0rWAAxVY-TgGHRAFB5gQqoUBegQIAxAB&amp;usg=AOvVaw08gbg7UfHWU_VWAU15qsez\"><div class=\"NZWO1b\"><img alt=\"\" class=\"yWs4tf\" src=\"https://encrypted-tbn0.gstatic.com/images?q=tbn:ANd9GcS8KTiPsdIdv6tCZuf-oRwHoP4zesJHEmjSw7cAb2DxIRKzl8eI7bxEupbJGQI&amp;s\"/></div></a></td></tr><tr><td><a href=\"/url?q=https://mobcup.net/wallpapers/virat-kohli-hd&amp;sa=U&amp;ved=2ahUKEwjSh8jK0rWAAxVY-TgGHRAFB5gQr4kDegQIAxAC&amp;usg=AOvVaw37Iti20CdNqSKSJMITqlnP\"><div class=\"jB2rPd\"> <span class=\"qXLe6d x3G5ab\"> <span class=\"fYyStc\">Virat kohli hd Wallpapers...</span> </span> <span class=\"qXLe6d F9iS2e\"> <span class=\"fYyStc\">mobcup.net</span> </span> </div></a></td></tr></table></div></div> </div> </div></td><td align=\"center\" class=\"e3goi\"><div class=\"mnTahd\"> <div> <div class=\"lIMUZd\"><div><table class=\"IkMU6e\"><tr><td><a href=\"/url?q=https://www.youtube.com/watch%3Fv%3DjkaBPZ5RqYY&amp;sa=U&amp;ved=2ahUKEwjSh8jK0rWAAxVY-TgGHRAFB5gQqoUBegQICBAB&amp;usg=AOvVaw2v4z8OwAH3gtCPR2MU-V_V\"><div class=\"NZWO1b\"><img alt=\"\" class=\"yWs4tf\" src=\"https://encrypted-tbn0.gstatic.com/images?q=tbn:ANd9GcSKkwzHFS4U0kvua9XC479QiQtxjGnoqlcQSEqrJwo8MQZ8b3LFZ0LIBrW5iHg&amp;s\"/></div></a></td></tr><tr><td><a href=\"/url?q=https://www.youtube.com/watch%3Fv%3DjkaBPZ5RqYY&amp;sa=U&amp;ved=2ahUKEwjSh8jK0rWAAxVY-TgGHRAFB5gQr4kDegQICBAC&amp;usg=AOvVaw3LsYfKpq8ft2qv98EkQWFS\"><div class=\"jB2rPd\"> <span class=\"qXLe6d x3G5ab\"> <span class=\"fYyStc\">I Really Enjoyed Myself Out...</span> </span> <span class=\"qXLe6d F9iS2e\"> <span class=\"fYyStc\">www.youtube.com</span> </span> </div></a></td></tr></table></div></div> </div> </div></td><td align=\"center\" class=\"e3goi\"><div class=\"mnTahd\"> <div> <div class=\"lIMUZd\"><div><table class=\"IkMU6e\"><tr><td><a href=\"/url?q=https://nationaltoday.com/birthday/virat-kohli/&amp;sa=U&amp;ved=2ahUKEwjSh8jK0rWAAxVY-TgGHRAFB5gQqoUBegQIBhAB&amp;usg=AOvVaw31WDHTO-O5DheJrUoSTI92\"><div class=\"NZWO1b\"><img alt=\"\" class=\"yWs4tf\" src=\"https://encrypted-tbn0.gstatic.com/images?q=tbn:ANd9GcRLqGxMbCeVkZIDV3mQfmlpSxuBcW4YTlZBp78_utfaZ7ACU-1GI0fyT3cQVA&amp;s\"/></div></a></td></tr><tr><td><a href=\"/url?q=https://nationaltoday.com/birthday/virat-kohli/&amp;sa=U&amp;ved=2ahUKEwjSh8jK0rWAAxVY-TgGHRAFB5gQr4kDegQIBhAC&amp;usg=AOvVaw1l-GUX8rp8VoMq2JerqQco\"><div class=\"jB2rPd\"> <span class=\"qXLe6d x3G5ab\"> <span class=\"fYyStc\">Virat Kohli - Age, Bio,...</span> </span> <span class=\"qXLe6d F9iS2e\"> <span class=\"fYyStc\">nationaltoday.com</span> </span> </div></a></td></tr></table></div></div> </div> </div></td><td align=\"center\" class=\"e3goi\"><div class=\"mnTahd\"> <div> <div class=\"lIMUZd\"><div><table class=\"IkMU6e\"><tr><td><a href=\"/url?q=https://www.timesnownews.com/web-stories/sports/list-of-nine-records-held-by-virat-kohli-in-international-cricket/photostory/102229371.cms&amp;sa=U&amp;ved=2ahUKEwjSh8jK0rWAAxVY-TgGHRAFB5gQqoUBegQIBRAB&amp;usg=AOvVaw3xvzcibtgw2DezFwZXxm8d\"><div class=\"NZWO1b\"><img alt=\"\" class=\"yWs4tf\" src=\"https://encrypted-tbn0.gstatic.com/images?q=tbn:ANd9GcQz1h5vqbpKCOG3xAMSXd-37-mUSqoT6aWhA6SHEkI7cjcPQlcJrgvPqHlWHyU&amp;s\"/></div></a></td></tr><tr><td><a href=\"/url?q=https://www.timesnownews.com/web-stories/sports/list-of-nine-records-held-by-virat-kohli-in-international-cricket/photostory/102229371.cms&amp;sa=U&amp;ved=2ahUKEwjSh8jK0rWAAxVY-TgGHRAFB5gQr4kDegQIBRAC&amp;usg=AOvVaw0IbHlafvEyRacOxE6hmp8v\"><div class=\"jB2rPd\"> <span class=\"qXLe6d x3G5ab\"> <span class=\"fYyStc\">9 Records Held By Virat...</span> </span> <span class=\"qXLe6d F9iS2e\"> <span class=\"fYyStc\">www.timesnownews.com</span> </span> </div></a></td></tr></table></div></div> </div> </div></td></tr><tr><td align=\"center\" class=\"e3goi\"><div class=\"mnTahd\"> <div> <div class=\"lIMUZd\"><div><table class=\"IkMU6e\"><tr><td><a href=\"/url?q=https://www.telegraphindia.com/sports/cricket/in-challenges-virat-kohli-discovers-crickets-beauty/cid/1922557&amp;sa=U&amp;ved=2ahUKEwjSh8jK0rWAAxVY-TgGHRAFB5gQqoUBegQIABAB&amp;usg=AOvVaw1WODwYMdmHsaVOPh8eTDSx\"><div class=\"NZWO1b\"><img alt=\"\" class=\"yWs4tf\" src=\"https://encrypted-tbn0.gstatic.com/images?q=tbn:ANd9GcT8x89pLXeMNlm4-Nrjk8kFn2NfKoBA8NLYSyJKnbM6EG-2EewQgiKttVsWrEE&amp;s\"/></div></a></td></tr><tr><td><a href=\"/url?q=https://www.telegraphindia.com/sports/cricket/in-challenges-virat-kohli-discovers-crickets-beauty/cid/1922557&amp;sa=U&amp;ved=2ahUKEwjSh8jK0rWAAxVY-TgGHRAFB5gQr4kDegQIABAC&amp;usg=AOvVaw2votY4ZcTvsiypO7gpsqkm\"><div class=\"jB2rPd\"> <span class=\"qXLe6d x3G5ab\"> <span class=\"fYyStc\">Test Cricket | In...</span> </span> <span class=\"qXLe6d F9iS2e\"> <span class=\"fYyStc\">www.telegraphindia.com</span> </span> </div></a></td></tr></table></div></div> </div> </div></td><td align=\"center\" class=\"e3goi\"><div class=\"mnTahd\"> <div> <div class=\"lIMUZd\"><div><table class=\"IkMU6e\"><tr><td><a href=\"/url?q=https://www.livemint.com/sports/cricket-news/virat-kohli-vs-sachin-tendulkar-all-records-who-is-better-west-indies-legend-curtly-ambrose-says-this-11690356914978.html&amp;sa=U&amp;ved=2ahUKEwjSh8jK0rWAAxVY-TgGHRAFB5gQqoUBegQIBBAB&amp;usg=AOvVaw2A2beSJGubTndFyyzhB_4O\"><div class=\"NZWO1b\"><img alt=\"\" class=\"yWs4tf\" src=\"https://encrypted-tbn0.gstatic.com/images?q=tbn:ANd9GcTbLaVUkOldonRMTG3L9injnOpQmQrT-CSrGhPR6CwxhHR7g09Mi7Xhm9HWF1c&amp;s\"/></div></a></td></tr><tr><td><a href=\"/url?q=https://www.livemint.com/sports/cricket-news/virat-kohli-vs-sachin-tendulkar-all-records-who-is-better-west-indies-legend-curtly-ambrose-says-this-11690356914978.html&amp;sa=U&amp;ved=2ahUKEwjSh8jK0rWAAxVY-TgGHRAFB5gQr4kDegQIBBAC&amp;usg=AOvVaw2x38FiKcLmRAqdZIdEF02t\"><div class=\"jB2rPd\"> <span class=\"qXLe6d x3G5ab\"> <span class=\"fYyStc\">Virat Kohli vs Sachin...</span> </span> <span class=\"qXLe6d F9iS2e\"> <span class=\"fYyStc\">www.livemint.com</span> </span> </div></a></td></tr></table></div></div> </div> </div></td><td align=\"center\" class=\"e3goi\"><div class=\"mnTahd\"> <div> <div class=\"lIMUZd\"><div><table class=\"IkMU6e\"><tr><td><a href=\"/url?q=https://english.jagran.com/cricket/only-way-to-make-sense-out-of-change-virat-kohli-post-another-cryptic-story-post-wtc-final-loss-10082847&amp;sa=U&amp;ved=2ahUKEwjSh8jK0rWAAxVY-TgGHRAFB5gQqoUBegQIBxAB&amp;usg=AOvVaw11jWnTwfeCJkEWckZ9vgeD\"><div class=\"NZWO1b\"><img alt=\"\" class=\"yWs4tf\" src=\"https://encrypted-tbn0.gstatic.com/images?q=tbn:ANd9GcRGYkG5ICR8iRwn42yp2Da-6lzhYbfwoAAIk4KKLlZMlPuP4czNJSzqEMO_HI0&amp;s\"/></div></a></td></tr><tr><td><a href=\"/url?q=https://english.jagran.com/cricket/only-way-to-make-sense-out-of-change-virat-kohli-post-another-cryptic-story-post-wtc-final-loss-10082847&amp;sa=U&amp;ved=2ahUKEwjSh8jK0rWAAxVY-TgGHRAFB5gQr4kDegQIBxAC&amp;usg=AOvVaw3u9sTdHBOF987mZfJaNznb\"><div class=\"jB2rPd\"> <span class=\"qXLe6d x3G5ab\"> <span class=\"fYyStc\">Virat Kohli Posts Another...</span> </span> <span class=\"qXLe6d F9iS2e\"> <span class=\"fYyStc\">english.jagran.com</span> </span> </div></a></td></tr></table></div></div> </div> </div></td><td align=\"center\" class=\"e3goi\"><div class=\"mnTahd\"> <div> <div class=\"lIMUZd\"><div><table class=\"IkMU6e\"><tr><td><a href=\"/url?q=https://m.rediff.com/cricket/report/we-have-got-back-the-original-virat-kohli/20230117.htm&amp;sa=U&amp;ved=2ahUKEwjSh8jK0rWAAxVY-TgGHRAFB5gQqoUBegQIAhAB&amp;usg=AOvVaw0nDF_Onb7j7cwOj2P_x6SH\"><div class=\"NZWO1b\"><img alt=\"\" class=\"yWs4tf\" src=\"https://encrypted-tbn0.gstatic.com/images?q=tbn:ANd9GcR31yH7qlDziUlJXlHkXWecPZWAX-UXw5HvmxOTVjhraNS4IrYozrED5TWnDQ&amp;s\"/></div></a></td></tr><tr><td><a href=\"/url?q=https://m.rediff.com/cricket/report/we-have-got-back-the-original-virat-kohli/20230117.htm&amp;sa=U&amp;ved=2ahUKEwjSh8jK0rWAAxVY-TgGHRAFB5gQr4kDegQIAhAC&amp;usg=AOvVaw0ruJZxsyHhNRUzS0gtJstm\"><div class=\"jB2rPd\"> <span class=\"qXLe6d x3G5ab\"> <span class=\"fYyStc\">We have got back the...</span> </span> <span class=\"qXLe6d F9iS2e\"> <span class=\"fYyStc\">m.rediff.com</span> </span> </div></a></td></tr></table></div></div> </div> </div></td></tr></table></div><table class=\"uZgmoc\"><tbody><td><a class=\"frGj1b\" href=\"/search?q=virat+kohli&amp;biw=1920&amp;bih=937&amp;ie=UTF-8&amp;tbm=isch&amp;ei=5u3FZNL8HNjy4-EPkIqcwAk&amp;start=20&amp;sa=N\">Next &gt;</a></td></tbody></table><br/><div class=\"TuS8Ad\" data-ved=\"0ahUKEwjSh8jK0rWAAxVY-TgGHRAFB5gQpyoIVg\"><style>.VYM29{font-weight:bold}</style><div align=\"center\" class=\"HddGcc\"><span class=\"VYM29\">562129, Bengaluru, Karnataka</span><span> - </span><span>From your IP address</span><span> - </span><a href=\"/url?q=https://support.google.com/websearch%3Fp%3Dws_settings_location%26hl%3Den-IN&amp;sa=U&amp;ved=0ahUKEwjSh8jK0rWAAxVY-TgGHRAFB5gQty4IVw&amp;usg=AOvVaw19XrZ-tpzF4PafR3zhUVOA\">Learn more</a></div><div align=\"center\"><a class=\"rEM8G\" href=\"/url?q=https://accounts.google.com/ServiceLogin%3Fcontinue%3Dhttps://www.google.com/search%253Fq%253Dvirat%252Bkholi%2526sxsrf%253DAJOqlzUuff1RXi2mm8I_OqOwT9VjfIDL7w:1676996143273%2526source%253Dlnms%2526tbm%253Disch%2526sa%253DX%2526ved%253D2ahUKEwiq-qK7gaf9AhXUgVYBHYReAfYQ_AUoA3oECAEQBQ%2526biw%253D1920%2526bih%253D937%2526dpr%253D1%26hl%3Den&amp;sa=U&amp;ved=0ahUKEwjSh8jK0rWAAxVY-TgGHRAFB5gQxs8CCFg&amp;usg=AOvVaw10dHE3er3PeQYcuYaWD_O-\">Sign in</a></div><div><table class=\"bookcf\"><tbody class=\"InWNIe\"><tr><td><a class=\"rEM8G\" href=\"https://www.google.com/preferences?hl=en&amp;sa=X&amp;ved=0ahUKEwjSh8jK0rWAAxVY-TgGHRAFB5gQv5YECFk\">Settings</a></td><td><a class=\"rEM8G\" href=\"https://www.google.com/intl/en_in/policies/privacy/\">Privacy</a></td><td><a class=\"rEM8G\" href=\"https://www.google.com/intl/en_in/policies/terms/\">Terms</a></td></tr></tbody></table></div></div><div> </div></body></html>"
      ]
     },
     "execution_count": 36,
     "metadata": {},
     "output_type": "execute_result"
    }
   ],
   "source": [
    "soup"
   ]
  },
  {
   "cell_type": "code",
   "execution_count": 37,
   "id": "fb81abc8-1447-4c3b-a023-b076f9127a3d",
   "metadata": {
    "scrolled": true
   },
   "outputs": [],
   "source": [
    "image_tags=soup.find_all(\"img\")"
   ]
  },
  {
   "cell_type": "code",
   "execution_count": 38,
   "id": "1398c154-f8b9-4ba5-b936-3ef70c8f4692",
   "metadata": {},
   "outputs": [],
   "source": [
    "del image_tags[0]"
   ]
  },
  {
   "cell_type": "code",
   "execution_count": 39,
   "id": "70b4cdbf-02d9-44cf-884e-319907d93571",
   "metadata": {},
   "outputs": [
    {
     "data": {
      "text/plain": [
       "[<img alt=\"\" class=\"yWs4tf\" src=\"https://encrypted-tbn0.gstatic.com/images?q=tbn:ANd9GcSApOD8cC7Jh33c0VqbcFkcmx0og9wr1DYsD50a8Tp3p-0I33M_SuuLXA0Kizk&amp;s\"/>,\n",
       " <img alt=\"\" class=\"yWs4tf\" src=\"https://encrypted-tbn0.gstatic.com/images?q=tbn:ANd9GcS9C58BNcMmQwtKOOVPr2QxPHvO0WyNIRF5XejM_bsxPzCH1IyGGEB2t2o2tlg&amp;s\"/>,\n",
       " <img alt=\"\" class=\"yWs4tf\" src=\"https://encrypted-tbn0.gstatic.com/images?q=tbn:ANd9GcQCfkyyXvEcnRtcJK8pjwyUIUlRY2u0Dc29_uLZWlfkNwlm4eScqvZgTCz0w7I&amp;s\"/>,\n",
       " <img alt=\"\" class=\"yWs4tf\" src=\"https://encrypted-tbn0.gstatic.com/images?q=tbn:ANd9GcSDzghEWlDVR4HINdcej04lBxbi1aoTL_CPHZh2TfFntrG95uCrdJ1ObDS4cA&amp;s\"/>,\n",
       " <img alt=\"\" class=\"yWs4tf\" src=\"https://encrypted-tbn0.gstatic.com/images?q=tbn:ANd9GcRZJo33H9n0_WI5mo6qPjFFxMNOnC6gKTatQcX4aVQVlSZDmBsXBdfl3W__mw&amp;s\"/>,\n",
       " <img alt=\"\" class=\"yWs4tf\" src=\"https://encrypted-tbn0.gstatic.com/images?q=tbn:ANd9GcRxlnSKBB-rt4QOMMJQGrXOOsqG6yPbmCwEqBEqHkkvt8AV2DTnkCMAHsro4qc&amp;s\"/>,\n",
       " <img alt=\"\" class=\"yWs4tf\" src=\"https://encrypted-tbn0.gstatic.com/images?q=tbn:ANd9GcTQisRy9KKPpaR789gUkso2hXdR_nmiUys7sAz5OBHssfxQcCNVOkVb8LmRZQ&amp;s\"/>,\n",
       " <img alt=\"\" class=\"yWs4tf\" src=\"https://encrypted-tbn0.gstatic.com/images?q=tbn:ANd9GcRaA9tOiDkcFIEnon99DX1fCf3rtk0yCtEm3i8iC5SYFS66OmKNWNI0vaQKTg&amp;s\"/>,\n",
       " <img alt=\"\" class=\"yWs4tf\" src=\"https://encrypted-tbn0.gstatic.com/images?q=tbn:ANd9GcR3ZFK0A4umNXAAYD4om18k3x2BgBYqPuIywILpy7ckkNFY6U2shFp4v0czbQ&amp;s\"/>,\n",
       " <img alt=\"\" class=\"yWs4tf\" src=\"https://encrypted-tbn0.gstatic.com/images?q=tbn:ANd9GcQXhRozPeN_ofFzgMvQcHZvcplv3EpOrLtmrSnBG88kwoJo8RFn0Ev3aLykTYA&amp;s\"/>,\n",
       " <img alt=\"\" class=\"yWs4tf\" src=\"https://encrypted-tbn0.gstatic.com/images?q=tbn:ANd9GcSMJqoYKnZTKlkFdcfNNAJJxMnQr_8MRPZkOKH0Vuc68Zy_ZEgoncXEjQGhl9E&amp;s\"/>,\n",
       " <img alt=\"\" class=\"yWs4tf\" src=\"https://encrypted-tbn0.gstatic.com/images?q=tbn:ANd9GcT31MU-l5iezqCLOPE2jeiBB0geQsn8njIF0T290gdxybDBKMJOC5V1jM9QAg&amp;s\"/>,\n",
       " <img alt=\"\" class=\"yWs4tf\" src=\"https://encrypted-tbn0.gstatic.com/images?q=tbn:ANd9GcS8KTiPsdIdv6tCZuf-oRwHoP4zesJHEmjSw7cAb2DxIRKzl8eI7bxEupbJGQI&amp;s\"/>,\n",
       " <img alt=\"\" class=\"yWs4tf\" src=\"https://encrypted-tbn0.gstatic.com/images?q=tbn:ANd9GcSKkwzHFS4U0kvua9XC479QiQtxjGnoqlcQSEqrJwo8MQZ8b3LFZ0LIBrW5iHg&amp;s\"/>,\n",
       " <img alt=\"\" class=\"yWs4tf\" src=\"https://encrypted-tbn0.gstatic.com/images?q=tbn:ANd9GcRLqGxMbCeVkZIDV3mQfmlpSxuBcW4YTlZBp78_utfaZ7ACU-1GI0fyT3cQVA&amp;s\"/>,\n",
       " <img alt=\"\" class=\"yWs4tf\" src=\"https://encrypted-tbn0.gstatic.com/images?q=tbn:ANd9GcQz1h5vqbpKCOG3xAMSXd-37-mUSqoT6aWhA6SHEkI7cjcPQlcJrgvPqHlWHyU&amp;s\"/>,\n",
       " <img alt=\"\" class=\"yWs4tf\" src=\"https://encrypted-tbn0.gstatic.com/images?q=tbn:ANd9GcT8x89pLXeMNlm4-Nrjk8kFn2NfKoBA8NLYSyJKnbM6EG-2EewQgiKttVsWrEE&amp;s\"/>,\n",
       " <img alt=\"\" class=\"yWs4tf\" src=\"https://encrypted-tbn0.gstatic.com/images?q=tbn:ANd9GcTbLaVUkOldonRMTG3L9injnOpQmQrT-CSrGhPR6CwxhHR7g09Mi7Xhm9HWF1c&amp;s\"/>,\n",
       " <img alt=\"\" class=\"yWs4tf\" src=\"https://encrypted-tbn0.gstatic.com/images?q=tbn:ANd9GcRGYkG5ICR8iRwn42yp2Da-6lzhYbfwoAAIk4KKLlZMlPuP4czNJSzqEMO_HI0&amp;s\"/>,\n",
       " <img alt=\"\" class=\"yWs4tf\" src=\"https://encrypted-tbn0.gstatic.com/images?q=tbn:ANd9GcR31yH7qlDziUlJXlHkXWecPZWAX-UXw5HvmxOTVjhraNS4IrYozrED5TWnDQ&amp;s\"/>]"
      ]
     },
     "execution_count": 39,
     "metadata": {},
     "output_type": "execute_result"
    }
   ],
   "source": [
    "image_tags"
   ]
  },
  {
   "cell_type": "code",
   "execution_count": 40,
   "id": "6d844765-2e40-4cee-b20e-1266610e33be",
   "metadata": {},
   "outputs": [
    {
     "data": {
      "text/plain": [
       "20"
      ]
     },
     "execution_count": 40,
     "metadata": {},
     "output_type": "execute_result"
    }
   ],
   "source": [
    "len(image_tags)"
   ]
  },
  {
   "cell_type": "code",
   "execution_count": 41,
   "id": "77d8c2a7-d59f-477d-8b57-c1d0eed69f9b",
   "metadata": {},
   "outputs": [
    {
     "data": {
      "text/plain": [
       "b'\\xff\\xd8\\xff\\xe0\\x00\\x10JFIF\\x00\\x01\\x01\\x00\\x00\\x01\\x00\\x01\\x00\\x00\\xff\\xdb\\x00\\x84\\x00\\t\\x06\\x07\\x08\\x07\\x06\\t\\x08\\x07\\x08\\n\\n\\t\\x0b\\r\\x16\\x0f\\r\\x0c\\x0c\\r\\x1b\\x14\\x15\\x10\\x16 \\x1d\"\" \\x1d\\x1f\\x1f$(4,$&1\\'\\x1f\\x1f-=-157:::#+?D?8C49:7\\x01\\n\\n\\n\\r\\x0c\\r\\x1a\\x0f\\x0f\\x1a7%\\x1f%77777777777777777777777777777777777777777777777777\\xff\\xc0\\x00\\x11\\x08\\x00u\\x00\\xa2\\x03\\x01\"\\x00\\x02\\x11\\x01\\x03\\x11\\x01\\xff\\xc4\\x00\\x1c\\x00\\x00\\x01\\x05\\x01\\x01\\x01\\x00\\x00\\x00\\x00\\x00\\x00\\x00\\x00\\x00\\x00\\x00\\x01\\x02\\x03\\x04\\x05\\x06\\x07\\x08\\xff\\xc4\\x00?\\x10\\x00\\x01\\x03\\x02\\x04\\x01\\x06\\x0c\\x04\\x05\\x05\\x01\\x00\\x00\\x00\\x00\\x01\\x00\\x02\\x03\\x04\\x11\\x05\\x12!1A\\x06\\x13Qaq\\xb1\\x07\\x14\"#23Bbs\\x81\\x91\\xa14Rc\\xc1$DSr\\xd1%5\\x92\\xd2\\xf0\\x15\\xff\\xc4\\x00\\x19\\x01\\x00\\x03\\x01\\x01\\x01\\x00\\x00\\x00\\x00\\x00\\x00\\x00\\x00\\x00\\x00\\x00\\x00\\x01\\x03\\x02\\x04\\x05\\xff\\xc4\\x00&\\x11\\x00\\x02\\x02\\x01\\x03\\x04\\x02\\x02\\x03\\x00\\x00\\x00\\x00\\x00\\x00\\x00\\x00\\x01\\x02\\x11\\x03!2A\\x12#1\\x81Bq3a\"Q\\xc1\\xff\\xda\\x00\\x0c\\x03\\x01\\x00\\x02\\x11\\x03\\x11\\x00?\\x00\\xf0\\xf6\\xb4\\xb9\\xc1\\xad\\x17\\'@\\x11#\\x1d\\x1b\\xcb\\x1e\\xd2\\xd74\\xd8\\x83\\xc1:\\x9c\\xe5\\x9e3\\xd0\\xe1\\xde\\xadcZb\\xb5?\\x10\\xa5z\\xd1\\xaa\\xfe6R\\t\\xf2E$lc\\x9e\\xd2\\x03\\xc5\\xdazBhZ8\\x97\\xe00\\xf3\\xfag\\xbd&\\xe9\\xa4\\n6\\x9b3T\\x91\\xc3$\\x91\\xbd\\xec\\x17k\\x05\\xdd\\xd4\\xa3ZXq\\x1e%\\\\-\\xaeA\\xde\\x89:V\\x10V\\xe8\\xce\\xb5\\xd3\\xe0\\x85\\xf3\\xc9\\x921w$j\\xb7\\x87f\\x8eS6G9\\xac\\xd0\\x81\\xd7\\xb2rn\\x82)6Ss\\x0b\\\\\\xe6\\xbbB\\r\\x8aK.\\x82\\x0c?W\\xccDOs\\xee\\xe0\\xe3\\xad\\xba4Y\\xb5\\xed\\x95\\xd2y\\xe8\\xd8\\xd7\\x00}\\x06\\x81\\xf5E\\x83\\x89B\\xc9\\xd9J\\x9cB\\xdem\\xaenl\\xc7\\xa7d\\xc7\\xf4&*\\x1a\"q\\x8f8\\xb5\\xafd\\xcc\\xa5Y\\x81\\x86H\\xdf\\xd0\\xc6\\x97\\x15\\x08\\xdc\\xa5c\\xa4X\\xa0\\xc3\\xa4\\xac\\xac\\x8a\\x99\\x8ek].\\xc4\\xec\\x11\\xe2\\x12\\x19g\\x8f3o\\x0b\\x88wZ\\xd1\\xe4\\xd3\\xbf\\xd7\\xa8\\x8fj\\x89\\xef\\xb5}\\x7f\\x0b\\xc8\\xee\\xf2\\xa2\\xf2K\\xad\\xc7\\xf4UB=)\\xfe\\xcc\\xb1\\x192\\x06\\\\^\\xf6W\\xf1\\\\%\\xf8uLP\\xbeV\\xbc\\xc9\\x18\\x90\\x10:U&\\xfe$\\x7fx]\\x0f+]z\\xfa\\'Z\\xdf\\xc359d\\x92\\xc9\\x18\\xaelQ\\x82po\\xe8\\xe6\\xa4ac\\xacM\\xd3\\x14\\xd5\\x07\\xcbQ*\\xa2LD!\\t\\x88sM\\x9c\\x0fAW1\\x9dq:\\x83\\xef\\xfe\\xca\\x92\\xb3\\x89\\x1b\\xd6\\xcazm\\xdc\\x93\\xdck\\xe2W\\n\\xfdq\\xcd\\x87\\xd0\\xf54\\x8f\\xba\\xcfWj\\x9d|:\\x93\\xab2\\xcc\\xbc\\xa1\\xc7\\xc3)-\\x1c7\\xf0\\xb5\\xdf\\rg\\xad\\x0c3\\xd4V\\x0f\\xd2FM\\xa3\\xc7\\xb8\\xa3\\x13\\x83d\\x04\\xf0+s\\x08\\x13bU\\x8d\\xc3\\xb0\\xf0\\xe3QTC\\x19m8\\xde\\xe7\\xa8\\x0b\\xdf\\xaa\\xeb\\r\\xba\\xafK\\xf0\\x1f\\x87E&3U\\x88N\\xf6\\xb4\\xc5\\x11\\x8a\\x0c\\xdc^uu\\xbb\\x1b\\xdf\\xda\\x9c\\x97#\\xc7wG_A\\xc8\\x1c#\\x0b\\xc1\\xe3\\x8a\\xa2\\x9cU\\xd4\\x91w\\xcc\\xfd\\xc9\\xe3n\\x80\\xb9<o\\x93X[\\\\\\xec\\x82H\\x00\\xe0\\xd7h\\xbdS\\x1f\\xc4i\\xe8\\xe9\\xdb\\xe3\\x15\\x10\\xb4\\x91\\xa3K\\xc0\\'\\xb1p\\xf8\\xbc\\x94\\xb5L21\\xecx\\xb7\\x02\\xb9\\xaeI\\xdd\\x9e\\x82\\x8c:j\\x8f;\\x97\\x0bm#\\x9b<\\xber\\x9c8\\xf9.\\x1a\\x9f\\xf2\\xb9\\xfa\\xa9\\x03\\xe5q\\r\\r\\x1c\\x07B\\xdd\\xe55T\\xaep\\x84\\xdc\\xc4\\x0f\\x92A\\\\\\xeb\\x9d\\xd2\\x17L<jy\\xd94z\\x16h\\xa5\\x11\\xc5R\\r\\x8ex\\x88\\n\\xb3x\\xa1\\x8e-\\xbe\\xbc\\x08H\\xde)\\xd6\\xa6oJ5y6\\xebc\\x94w\\xfc\\xca*\\x83lB\\xb7\\xe2\\xbb\\xbd/\\'\\xdd\\x97\\x18\\xa5>\\xfa\\x8e\\xac\\xdb\\x10\\xab\\xf8\\xae\\xefPk\\xb8\\xfe\\xbf\\xd2\\xc9\\xf6\\xd7\\xd9U\\xbe\\xbc\\x1fyn\\xf2\\xad\\xc5\\xd5TF\\xdf\\xcb\\x05\\x82\\xd3\\xe7\\x81\\xf7\\x82\\xda\\xe5)\\xbc\\xd4F\\xe4\\xf9\\x8b\"k\\xb9\\x1fa\\x07\\xdb\\x97\\xa3\\x12s\\xe5\\xa8\\xd3\\xe5\\xd4\\xa8\\xd5\\xd1\\x06*D!1\\n\\xa7\\xac\\xd6bz@\\xeeP)j\\r\\xde\\x0f\\xba\\x12\\xe4|\\x11+S\\x9f\\xe0)\\xfa\\x8b\\x95n\\n\\xcc\\x9a\\xd0\\xc5\\xd4\\xe2\\x93\\xe0\\xd2\\xf0\\xca\\xdc\\x16\\x8e\\x19\\xea\\xaa\\xba\\xe2Y\\xca\\xf6\\x1at\\xa8\\x1f\\xa4R\\xc9\\xb4p\\xdcSb\\xf5\\xcf\\x04l\\x9a\\x87\\x93x\\x86\\'QP\\xe8\\xe8|c\\xc9\\x8c\\x01\\xe5\\x16\\x81wu\\xf0\\x1f#\\xf2\\xf2F\\xee\\xbd\\x87\\x91\\x14\\x8c\\xc6\\xfc\\x1a\\x1c>:\\xc6\\xd2\\x91Q#^\\xe74\\x10N`\\xebn4\\xb1\\x1cQ7\\xa1L\\n\\xe6j\\xe0R\\xd5cp\\xd5\\xd6\\xb9\\xed\\x11\\xcb#\\xf2\\xb7\\x9bk\\xae\\xdby\"\\xe7mI+\\x12\\xa7\\x084q\\xcdUT\\xf8\\xd8\\xe0m\\xe6\\xf6w\\xc9t|\\x9c\\x82<\\x1a\\x86zgL\\xc7\\x0b\\xdc5\\xa2\\xcdi\\xb0\\x06\\xddW\\xb9\\xf9\\xaeC\\x1f\\xac\\x96\\xad\\xb5Q\\xb5\\xa4\\x06\\xdc9\\xce\\xe1\\xd8\\xa1|\\x1d\\xd2\\x8a\\xab8\\xbcrfJK\\x9a\\xeb\\xdd\\xdb\\x05\\x9d\\xe2Y\\x9a\\xe2\\x1cK\\xc5\\xf2\\xb47GX\\\\\\xeb\\xd8\\x865\\xcf\\x7f4.\\xef+n\\xc5v\\xb2\\xa4QP\\xd3\\xd2B2\\xce\\xc7=\\xf2I\\xa16{@\\x00t\\x0c\\xb7\\xd3\\xa5\\xc7\\xa1]\\x7fG\\x9f*v\\xd9\\x8awJ4A\\xecJ\\x00;\\x95B%\\xcc\\x1c\\xdb\\x12\\xa5#\\xf3\\x84V\\xe9\\x88U|C\\xde\\x9b\\x85\\x9bb4\\xe7\\xdf\\tk\\xbf\\xdc*~!Q\\x7f\\x93\\xd1k\\xed\\xfb*\\x8fZ\\xde\\xd5\\xb1\\xca\\x03sE\\xf0\\x7fu\\x90=c{V\\xae;\\xb5!?\\xd3\\xfd\\xd2\\x97\\xe4\\x8f\\xb1\\xc7d\\x8c\\x89\\x13\\x13\\xde\\xa3VDX!\\x08@\\x85Ny\\xbd\\xbb\\x13P\\x80\\x0e\\n\\xd1\\xd6\\x85\\x9f\\xdeUn\\n\\xcf\\xf2M\\x1e\\xf9Y\\x91\\xa8\\x95\\xce\\xea\\xe6\\x1b\\xe9\\xcc?L\\xaaguk\\x0f\\xbey,m\\xe4\\x14Ki\\xa8\\xf9+\\xb7p\\xbd_\\xc1\\x14\\xb0W`\\xb8\\x86\\x1b3X\\x1fM?<\\xd79\\xa1\\xd7\\x12\\x00-c\\xd7\\x1f\\xddy@\\xddi\\xe0U\\xf8\\x86\\x19[\\xcfa\\xf3:\\'<ep\\x1b<t\\x11\\xc4!\\xabC\\x84\\xfa$\\x99\\xeb\\xb1\\xd3\\xd1\\xe1\\x92\\xcfS1i\\xb0\\xd1\\xa4\\xd8;\\xaa\\xc3E\\xcb\\xe2\\xd5\\xa1\\xfc\\xf3sft\\xa71\\xca6\\xea\\xee[m\\xe4\\xf5N7\\x87EW\\x0c\\xe1\\xd3:\\x9a\\n\\x87\\xc2\\xe7\\x1b\\xb4H\\xc0\\xe0[\\xd2/\\x98k\\xf9V5N\\r]M!a\\x8d\\xa4\\xf4\\xdf^\\xe5\\x15\\ru;\\x1eN\\xa5\\xa1\\xc4KI4\\x0et\\xa4\\x96\\xb8\\x92@\\x06\\xc4,\\xc7\\x82\\t\\xfb\\xafC8,\\xa4\\xf9\\xd6\\xb6\\xce\\xbe\\xc6\\xeb\\x98\\xe5\\x16\\x160\\xb2\\xc6\\xb9\\xcd2L\\xcep7\\x8bY{6\\xfd\\xba\\x9e\\xcbt\\xab\\xc4\\xe4\\xc9\\x1aV`\\x93\\xa5\\x88H\\x8b%\\xd9h\\x89%4\\xdc\\xcdDr[\\xd0p*J\\x89[5T\\xb27g\\xb8\\x90\\xaa\\xa7\\xc6\\xb2\\xd2\\xbb4\\x9e\\x94/\\xb6;V\\x9e4|\\x8a]}\\x82\\xb3\\x07\\xa6\\x16\\x8e.o\\x1d)\\xf7J\\x9c\\xb7D\\xa4v\\xb35\\xc5F\\x9e\\xe4\\xc5RL\\x10\\x84 B\\x84\\x14%L\\x04V\\x07\\xe1m\\xef\\xaa\\xeav\\xfe\\x1c\\xff\\x00r\\xcc\\x8dD\\x8e\\xc4\\xec.\\xac\\xd31\\xec%\\xc0n-d\\xeax\\xb5\\x8f\\xde\\xba\\xd2d-h\\xbf\\x15\\xa5\\x1bB\\xb2\\x8cT\\x84[\\xc9\\xfa\\xab\\xf4q5\\x97w\\xb5\\xdc\\x9c\\xd0\\x089\\x87\\x14\\xe8[\\x90<\\xf0\\xb5\\xd6\\xd2\\x11\\xeb\\xbc\\x9f\\x15?\\xfc\\x9c\\x02\\xa3\\r{\\rL8\\\\l\\x9e\\x99\\xe6\\xde1\\x19\\xb9ha\\xfc\\xcd\\x1a\\xed\\xedu\\xa9\\xe0\\x92\\x9b\\x15\\xad\\x022\\x04\\xc7\\xd8v\\x85ix=\\xa7\\x8a~J\\xe1\\xd5\\xae\\x8f4\\xf1F\\xd66\\xe3P\\xc640\\x01\\xd7a~\\xd5k\\x1f\\xc2\\xa90\\xcf\\x16\\xc5\\xf0\\xf8\\xbc\\xe3\\xea\\x1a&m\\xc9\\x0e\\xcf\\xc6\\xdc\\r\\xcf\\xddK.?\\x92:1d\\xf8\\xc8\\xe7\\xaah\\xa2\\x8d\\xf2\\xc9Q\\x19<\\xd8ql \\x80e z#\\xa0\\x13\\xa5\\xd7\\x8ar\\x82\\xb2z\\xfa\\xa9k*\\x8d\\xe6\\x9d\\xe5\\xee\\x16\\xb0h\\xe0\\x00\\xe0\\x06\\xc0t\\x05\\xee\\xbc\\xae\\x89\\xf4\\x18\\xac5\\x0f\\xd6Y\"\\r\\x89\\x9c\\x1a5\\xd4\\xf5\\xdc\\x95\\xe3\\\\\\xb6\\x8a\\x08yI[MNC\\xdb\\x14\\x99\\x1e\\xe6\\xed\\xce\\x0fN\\xddY\\xb3*F)D\\x96I\\xb9H\\xe7!\\xf5\\x82\\xfcT\\xcf\\x84\\x11p\\x9ab, \\x93\\xb1\\xe0\\xa4\\xccl\\xe3\\xc0\\x14\\x18)\\xbd\\xa5\\xa6\\xc9cV\\x1c\\x03\\x85\\xd4.\\x01\\xa2\\xfcIYhho\\xb4\\xafb>\\xaa\\x0e\\xc2\\xb3\\xee\\xa4t\\xce{C^v\\xd9a\\xc7T\\xcd\\xa9h\\xd0\\xc7&\\'\\x94\\x8dm\\xd6\\x8c\\rB\\x93\"\\x10\\x141\\t\\x12\\xa0@\\xa6g\\xab\\xb7\\xbc\\xa2\\xb6\\x8aza{\\x0e\\xb4y\\x1a4\\x9a\\xd0\\xd9\\xa9\\x80\\xe8=\\xca\\xe8\\xd9V#\\xce\\xd3\\xf5^\\xff\\x00\\xf1V@\\xd1PC\\x0e\\x80\\xf6\\xa9\\xe8\\x9a\\xc9\\x1d$ovW\\xba7sw\\xb5\\x8b\\xb7\\x00\\xf5\\x1d~vP\\x91pBsE\\xa1\\x91\\xc3p\\xd3d\\x01\\xee>\\n*\\xb9\\xdeH\\xd3\\xc4\\x0b\\xc9\\xa6{\\xa2/s\\x0bC\\xacz\\xfbV\\xd6!YT\\xf9\\xe5\\xa6\\xa2kD\\x103<\\xb3\\x16\\x87dp\\xf2\\x80h<o\\xf4\\\\\\xef\\x82V\\xdb\\x920\\x96:\\xe2I\\t\\xccM\\xeel3}\\xee>K\\xb0||\\xd42\\x98\\x86\\xe4|\\xc9p\\'\\xbc\\xad\\xa5\\xa0\\x99\\x83\\x89\\xd2\\xd1a\\xb4\\xb58\\xc5s\\x9fU-,N\\x93\\x9c\\x9d\\xf9\\xaeZ.,6\\xdf\\xa9|\\xe2\\xf9d\\xaa\\xaa\\x96y]\\x9aI\\x1e^\\xe3\\xd2\\xe2nO\\xd4\\xaff\\xf0\\xd5\\x8b6\\x8b\\x01\\x83\\x0b\\x84\\x9er\\xbaK\\xbe\\xdf\\xd3a\\x07\\xee\\xeb}\\n\\xf1\\x98\\x80kn\\xb3 D\\x13\\xb8\\xe6\\x03\\x89;$\\x94\\xe5cZ8\\x04\\xd2s\\xcc_\\xc3\\x82d\\xa6\\xeb#\\x06\\x92FQ\\xb9\\xd0&L\\xeb\\xbe\\xc3f\\xe8\\x12\\xc2r\\xbf7\\xe5\\x04\\x8e\\xd5\\x19I\\x80\\x88B\\x12\\x00;%\\x06\\xc1!\\xd9+R\\x00\\xccP\\x92\\xc8@\\xc4J\\x91*\\x04/\\x05o\\x0fm\\xe6\\x1d\\x17\\xba\\xa6\\xb4p\\xb6\\xea^v\\t\\xa04\\x00\\xbc\\xcc\\xb9\\xd4\\\\\\x8f\\xa5\\x95\\x967EJ9G\\x8d\\x86\\x9fi\\xb6\\x17\\xff\\x00\\xddJ\\xfb-m\\xd6\\xc0am\\x8ay\\x03#\\xc7\\x02\\xd4\\x93\\x8c\\xac\\x0e\\xbaJc\\x9a7\\x03\\xbd\\xbe\\xc8\\x03\\xd8<\\x0cI\\xcerN8\\xef\\xe8\\xc9k|\\x87\\xf8]\\xa4/\\x91\\xd05\\x937-\\xea\\x1e\\x06\\xbe\\x93E\\xc8\\xfb\\xdbN\\xa5\\xe6\\x1e\\x03*\\x8f9=&\\xbb\\x1f\\xa3o\\xff\\x00e\\xdf\\xf2\\xcb\\x13\\x18.\\x13S\\\\\\xd2\\x01\\xa5\\xa5\\x91\\xe2\\xfbs\\x8e-l\\x7f{\\xad\\xde\\x82\\xe4\\xf0\\xcf\\t\\xf8\\xc0\\xc69cTcq0R\\x1f\\x15\\x8c_O \\x90\\xe3\\xf3vo\\xb2\\xe5\\xa56nQ\\xdaP\\\\\\xe78\\xbd\\xe4\\xbd\\xce;\\x9d\\xc9\\xe9I%\\x9a\\xcc\\xbb\\xdfr\\xa62\\xb96\\x1a(\\xce\\xc5))\\x0e\\xd7@\\x11\\xedt\\x89JE\\x90\\x04!\"\\x00R\\x80\\x91\\t\\x00\\xf4&!\\x03\\xb1P\\x84& Z\\xd8sG4A\\xda\\xd7H\\x84\\xd0\\x15\\x99;\\x9d[\\x1b\\xce\\xf9\\xc0]\\x04{\\x1e\\xc4\\xa8Z\\x01\\xb5^\\x85\\xba\\x94t\\xe6\\xceh\\xe0tB\\x13\\x03\\xb9\\xf0\\x1e\\xe2\\xdeUb,\\x1b\\x08\\x9cG\\xd4-\\x8f\\x0e\\x98\\x8c\\xd1RS\\xd02\\xc2)\\x9e\\x0b\\xcfNQp>\\xaf\\xfb!\\t\\xf0.O\\x19\\xa6\\x19\\xa7u\\xfd\\x81a\\xf3QT\\xbb\\xcbp\\x1a\\x00\\x84,\\x0c\\xacJiq(B@5\\x08B@\\x08B\\x10\\x02!\\x08H\\x01\\x08B\\x00\\xff\\xd9'"
      ]
     },
     "execution_count": 41,
     "metadata": {},
     "output_type": "execute_result"
    }
   ],
   "source": [
    "requests.get(\"https://encrypted-tbn0.gstatic.com/images?q=tbn:ANd9GcQY_R5NSNoZkSlMo3hf86COGJ4fCv0s6Nx4k8uCGkWc6YGOn_m4-rIOQ3GhOhg&s\").content"
   ]
  },
  {
   "cell_type": "code",
   "execution_count": 42,
   "id": "d5e57168-84e4-4bb7-af80-7f65f03d05ef",
   "metadata": {},
   "outputs": [],
   "source": [
    "save_dir=\"images/\"\n",
    "if not os.path.exists(save_dir):\n",
    "    os.makedirs(save_dir)"
   ]
  },
  {
   "cell_type": "code",
   "execution_count": 43,
   "id": "a735a775-4e88-4541-8731-2c731247e4aa",
   "metadata": {},
   "outputs": [
    {
     "name": "stdout",
     "output_type": "stream",
     "text": [
      "0\n",
      "1\n",
      "2\n",
      "3\n",
      "4\n",
      "5\n",
      "6\n",
      "7\n",
      "8\n",
      "9\n",
      "10\n",
      "11\n",
      "12\n",
      "13\n",
      "14\n",
      "15\n",
      "16\n",
      "17\n",
      "18\n",
      "19\n"
     ]
    }
   ],
   "source": [
    "for i in image_tags:\n",
    "    print(image_tags.index(i))\n",
    "    "
   ]
  },
  {
   "cell_type": "code",
   "execution_count": 44,
   "id": "1185ca8c-c8ea-4375-98bf-65e08ef76994",
   "metadata": {
    "scrolled": true
   },
   "outputs": [],
   "source": [
    "for i in image_tags:\n",
    "    image_url=i['src']\n",
    "    image_data=requests.get(image_url).content\n",
    "    with open(os.path.join(save_dir,f\"{query}_{image_tags.index(i)}.jpg\"),\"wb\") as f:\n",
    "        f.write(image_data)"
   ]
  },
  {
   "cell_type": "code",
   "execution_count": null,
   "id": "a3e2b48c-1f13-4a8d-84f2-02f30e3430a3",
   "metadata": {},
   "outputs": [],
   "source": []
  }
 ],
 "metadata": {
  "kernelspec": {
   "display_name": "Python 3 (ipykernel)",
   "language": "python",
   "name": "python3"
  },
  "language_info": {
   "codemirror_mode": {
    "name": "ipython",
    "version": 3
   },
   "file_extension": ".py",
   "mimetype": "text/x-python",
   "name": "python",
   "nbconvert_exporter": "python",
   "pygments_lexer": "ipython3",
   "version": "3.8.17"
  }
 },
 "nbformat": 4,
 "nbformat_minor": 5
}
